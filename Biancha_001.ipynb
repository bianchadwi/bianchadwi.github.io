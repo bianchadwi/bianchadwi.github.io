{
  "nbformat": 4,
  "nbformat_minor": 0,
  "metadata": {
    "colab": {
      "provenance": []
    },
    "kernelspec": {
      "name": "python3",
      "display_name": "Python 3"
    },
    "language_info": {
      "name": "python"
    }
  },
  "cells": [
    {
      "cell_type": "code",
      "source": [
        "import pandas as pd\n",
        "df = pd.read_csv(\"rkpd-2021-kegiatan.csv\")\n",
        "df.head()"
      ],
      "metadata": {
        "id": "Xob3G86ld00l"
      },
      "execution_count": null,
      "outputs": []
    },
    {
      "cell_type": "code",
      "source": [
        "df.info()"
      ],
      "metadata": {
        "id": "dvdamqB2iqW4"
      },
      "execution_count": null,
      "outputs": []
    },
    {
      "cell_type": "code",
      "source": [
        "## tahun\n",
        "## kode unit\n",
        "## komisi\n",
        "## kode_urusan\n",
        "## nama_urusan\n",
        "## kode_program\n",
        "## nama_program\n",
        "## kode_kegiatan\n",
        "## nama_kegiatan\n",
        "## anggaran"
      ],
      "metadata": {
        "id": "vadiB24Pm3nR"
      },
      "execution_count": null,
      "outputs": []
    },
    {
      "cell_type": "code",
      "source": [
        "df.shape"
      ],
      "metadata": {
        "id": "3ly2v4NnmOCD"
      },
      "execution_count": null,
      "outputs": []
    },
    {
      "cell_type": "code",
      "source": [
        "df.describe"
      ],
      "metadata": {
        "id": "LV9LpfH5mX4i"
      },
      "execution_count": null,
      "outputs": []
    }
  ]
}